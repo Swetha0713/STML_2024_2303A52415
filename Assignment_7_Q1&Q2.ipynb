{
  "cells": [
    {
      "cell_type": "markdown",
      "metadata": {
        "id": "view-in-github",
        "colab_type": "text"
      },
      "source": [
        "<a href=\"https://colab.research.google.com/github/Swetha0713/STML_2024_2303A52415/blob/main/Assignment_7_Q1%26Q2.ipynb\" target=\"_parent\"><img src=\"https://colab.research.google.com/assets/colab-badge.svg\" alt=\"Open In Colab\"/></a>"
      ]
    },
    {
      "cell_type": "code",
      "source": [
        "import pandas as pd\n",
        "\n",
        "# Load the dataset\n",
        "df = pd.read_csv('/content/archive (10).zip')\n",
        "\n",
        "# Identify the features and target variables\n",
        "features = df.drop('Salary', axis=1)\n",
        "target = df['Salary']\n",
        "\n",
        "print(\"Features:\")\n",
        "print(features.columns)\n",
        "print(\"Target variable:\")\n",
        "print(target.name)"
      ],
      "metadata": {
        "id": "iJPdNmHUnYPx",
        "colab": {
          "base_uri": "https://localhost:8080/"
        },
        "outputId": "ebc06e42-ba6d-4776-d30e-caf6d5873a65"
      },
      "execution_count": null,
      "outputs": [
        {
          "output_type": "stream",
          "name": "stdout",
          "text": [
            "Features:\n",
            "Index(['YearsExperience'], dtype='object')\n",
            "Target variable:\n",
            "Salary\n"
          ]
        }
      ]
    },
    {
      "cell_type": "code",
      "source": [
        "import matplotlib.pyplot as plt\n",
        "\n",
        "# Plot a scatter plot between features and target\n",
        "plt.scatter(features, target)\n",
        "plt.xlabel('Years of Experience')\n",
        "plt.ylabel('Salary')\n",
        "plt.title('Relationship between Years of Experience and Salary')\n",
        "plt.show()"
      ],
      "metadata": {
        "colab": {
          "base_uri": "https://localhost:8080/",
          "height": 472
        },
        "id": "ZlEXMDQ2lN1t",
        "outputId": "74f300ab-2574-4ed4-fd93-1803429e1eab"
      },
      "execution_count": null,
      "outputs": [
        {
          "output_type": "display_data",
          "data": {
            "text/plain": [
              "<Figure size 640x480 with 1 Axes>"
            ],
            "image/png": "[encoded data removed]"
          },
          "metadata": {}
        }
      ]
    },
    {
      "cell_type": "code",
      "source": [
        "from sklearn.linear_model import LinearRegression\n",
        "from sklearn.model_selection import train_test_split\n",
        "\n",
        "# Split the data into training and testing sets\n",
        "X_train, X_test, y_train, y_test = train_test_split(features, target, test_size=0.2, random_state=42)\n",
        "\n",
        "# Train a linear regression model\n",
        "model = LinearRegression()\n",
        "model.fit(X_train, y_train)\n",
        "\n",
        "# Make predictions on the testing set\n",
        "y_pred = model.predict(X_test)"
      ],
      "metadata": {
        "id": "MeE7r9jHlUZu"
      },
      "execution_count": null,
      "outputs": []
    },
    {
      "cell_type": "code",
      "source": [
        "from sklearn.metrics import mean_squared_error, mean_absolute_error\n",
        "\n",
        "# Calculate MSE and MAE for test size 20\n",
        "X_train, X_test, y_train, y_test = train_test_split(features, target, test_size=0.2, random_state=42)\n",
        "model.fit(X_train, y_train)\n",
        "y_pred = model.predict(X_test)\n",
        "mse_20 = mean_squared_error(y_test, y_pred)\n",
        "mae_20 = mean_absolute_error(y_test, y_pred)\n",
        "print(\"Test size 20:\")\n",
        "print(\"MSE:\", mse_20)\n",
        "print(\"MAE:\", mae_20)\n",
        "\n",
        "# Calculate MSE and MAE for test size 25\n",
        "X_train, X_test, y_train, y_test = train_test_split(features, target, test_size=0.25, random_state=42)\n",
        "model.fit(X_train, y_train)\n",
        "y_pred = model.predict(X_test)\n",
        "mse_25 = mean_squared_error(y_test, y_pred)\n",
        "mae_25 = mean_absolute_error(y_test, y_pred)\n",
        "print(\"Test size 25:\")\n",
        "print(\"MSE:\", mse_25)\n",
        "print(\"MAE:\", mae_25)"
      ],
      "metadata": {
        "colab": {
          "base_uri": "https://localhost:8080/"
        },
        "id": "kiZb9uu7lcp1",
        "outputId": "2a17f5e5-9e33-4687-9eb8-ce7f393e0219"
      },
      "execution_count": null,
      "outputs": [
        {
          "output_type": "stream",
          "name": "stdout",
          "text": [
            "Test size 20:\n",
            "MSE: 49830096.85590839\n",
            "MAE: 6286.453830757749\n",
            "Test size 25:\n",
            "MSE: 38802588.99247065\n",
            "MAE: 5056.995466663592\n"
          ]
        }
      ]
    },
    {
      "cell_type": "code",
      "source": [
        "import pandas as pd\n",
        "\n",
        "# Load the dataset\n",
        "data = {\n",
        "    'Feature 1': [1.2, 2.4, 3.5, 4.1, 1.9, 3.7, 2.1, 2.8, 4, 2.8],\n",
        "    'Feature 2': [2.3, 1.9, 2.7, 3, 2.8, 2.5, 3.2, 3.1, 3.3, 3.1],\n",
        "    'Feature 3': [3.1, 2.8, 1.5, 3.6, 2.5, 1.9, 2.2, 1.8, 2.7, 2.7],\n",
        "    'Feature 4': [4.2, 3.5, 2.9, 4.8, 3.2, 4, 4.1, 3.6, 4.9, 4.9],\n",
        "    'Target (Y)': [15.6, 13.1, 12.4, 18.2, 14.1, 16, 14.5, 14.9, 19.2, 17.3]\n",
        "}\n",
        "\n",
        "df = pd.DataFrame(data)\n",
        "\n",
        "# Identify the features and target variables\n",
        "features = df[['Feature 1', 'Feature 2', 'Feature 3', 'Feature 4']]\n",
        "target = df['Target (Y)']\n",
        "\n",
        "print(\"Features:\")\n",
        "print(features.columns)\n",
        "print(\"Target variable:\")\n",
        "print(target.name)"
      ],
      "metadata": {
        "colab": {
          "base_uri": "https://localhost:8080/"
        },
        "id": "f3CgKPw7ludr",
        "outputId": "78cc4fa2-fa1e-431b-d2ba-c3c14db17673"
      },
      "execution_count": null,
      "outputs": [
        {
          "output_type": "stream",
          "name": "stdout",
          "text": [
            "Features:\n",
            "Index(['Feature 1', 'Feature 2', 'Feature 3', 'Feature 4'], dtype='object')\n",
            "Target variable:\n",
            "Target (Y)\n"
          ]
        }
      ]
    }
  ],
  "metadata": {
    "colab": {
      "provenance": [],
      "include_colab_link": true
    },
    "kernelspec": {
      "display_name": "Python 3",
      "name": "python3"
    }
  },
  "nbformat": 4,
  "nbformat_minor": 0
}
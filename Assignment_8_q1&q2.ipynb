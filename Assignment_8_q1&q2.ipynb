{
  "nbformat": 4,
  "nbformat_minor": 0,
  "metadata": {
    "colab": {
      "provenance": [],
      "authorship_tag": "ABX9TyOV0ocvoNh17OWGtNn42s0n",
      "include_colab_link": true
    },
    "kernelspec": {
      "name": "python3",
      "display_name": "Python 3"
    },
    "language_info": {
      "name": "python"
    }
  },
  "cells": [
    {
      "cell_type": "markdown",
      "metadata": {
        "id": "view-in-github",
        "colab_type": "text"
      },
      "source": [
        "<a href=\"https://colab.research.google.com/github/Swetha0713/STML_2024_2303A52415/blob/main/Assignment_8_q1%26q2.ipynb\" target=\"_parent\"><img src=\"https://colab.research.google.com/assets/colab-badge.svg\" alt=\"Open In Colab\"/></a>"
      ]
    },
    {
      "cell_type": "code",
      "source": [
        "import pandas as pd\n",
        "from sklearn.model_selection import train_test_split\n",
        "from sklearn.linear_model import LogisticRegression\n",
        "from sklearn.metrics import accuracy_score, classification_report, confusion_matrix\n",
        "\n",
        "# Create a pandas dataframe from the given dataset\n",
        "data = {\n",
        "    'X1': [10, 5, 80, 15, 2, 12, 8, 14, 3, 6],\n",
        "    'X2': [90, 60, 70, 95, 30, 85, 75, 92, 50, 65],\n",
        "    'X3': [85, 70, 80, 90, 50, 88, 65, 93, 55, 60],\n",
        "    'X4': [1, 0, 0, 1, 0, 1, 0, 1, 0, 0],\n",
        "    'X5': [100, 40, 70, 95, 40, 90, 70, 95, 60, 75],\n",
        "    'Pass/Fail': [1, 0, 0, 1, 0, 1, 0, 1, 0, 0]\n",
        "}\n",
        "df = pd.DataFrame(data)\n",
        "\n",
        "# Split the data into features (X) and target (y)\n",
        "X = df.drop('Pass/Fail', axis=1)\n",
        "y = df['Pass/Fail']\n",
        "\n",
        "# Split the data into training and testing sets\n",
        "X_train, X_test, y_train, y_test = train_test_split(X, y, test_size=0.2, random_state=42)\n",
        "\n",
        "# Train a logistic regression model\n",
        "model = LogisticRegression()\n",
        "model.fit(X_train, y_train)\n",
        "\n",
        "# Make predictions on the testing set\n",
        "y_pred = model.predict(X_test)\n",
        "\n",
        "# Evaluate the model\n",
        "accuracy = accuracy_score(y_test, y_pred)\n",
        "print(\"Accuracy:\", accuracy)\n",
        "print(\"Classification Report:\")\n",
        "print(classification_report(y_test, y_pred))\n",
        "print(\"Confusion Matrix:\")\n",
        "print(confusion_matrix(y_test, y_pred))"
      ],
      "metadata": {
        "colab": {
          "base_uri": "https://localhost:8080/"
        },
        "id": "vF22YYEofnZ7",
        "outputId": "cfde2b27-49cd-45aa-ee55-5f2a6a94d30a"
      },
      "execution_count": null,
      "outputs": [
        {
          "output_type": "stream",
          "name": "stdout",
          "text": [
            "Accuracy: 1.0\n",
            "Classification Report:\n",
            "              precision    recall  f1-score   support\n",
            "\n",
            "           0       1.00      1.00      1.00         2\n",
            "\n",
            "    accuracy                           1.00         2\n",
            "   macro avg       1.00      1.00      1.00         2\n",
            "weighted avg       1.00      1.00      1.00         2\n",
            "\n",
            "Confusion Matrix:\n",
            "[[2]]\n"
          ]
        }
      ]
    },
    {
      "cell_type": "code",
      "source": [
        "import pandas as pd\n",
        "from sklearn.model_selection import train_test_split\n",
        "from sklearn.linear_model import LogisticRegression\n",
        "from sklearn.metrics import accuracy_score\n",
        "df = pd.read_csv('/content/archive (9).zip')\n",
        "print(df.info())\n",
        "df = pd.get_dummies(df, drop_first=True)\n",
        "X = df.drop('class_Positive', axis=1)\n",
        "y = df['class_Positive']\n",
        "# split the data into training (80%) and testing (20%) sets\n",
        "X_train, X_test, y_train, y_test = train_test_split(X, y, test_size=0.2, random_state=42)\n",
        "model = LogisticRegression(max_iter=1000)\n",
        "model.fit(X_train, y_train)\n",
        "y_pred = model.predict(X_test)\n"
      ],
      "metadata": {
        "colab": {
          "base_uri": "https://localhost:8080/"
        },
        "id": "uc13RP8ujwIX",
        "outputId": "2c0bdf67-de69-4b8a-d432-148310e72743"
      },
      "execution_count": null,
      "outputs": [
        {
          "output_type": "stream",
          "name": "stdout",
          "text": [
            "<class 'pandas.core.frame.DataFrame'>\n",
            "RangeIndex: 520 entries, 0 to 519\n",
            "Data columns (total 17 columns):\n",
            " #   Column              Non-Null Count  Dtype \n",
            "---  ------              --------------  ----- \n",
            " 0   Age                 520 non-null    int64 \n",
            " 1   Gender              520 non-null    object\n",
            " 2   Polyuria            520 non-null    object\n",
            " 3   Polydipsia          520 non-null    object\n",
            " 4   sudden weight loss  520 non-null    object\n",
            " 5   weakness            520 non-null    object\n",
            " 6   Polyphagia          520 non-null    object\n",
            " 7   Genital thrush      520 non-null    object\n",
            " 8   visual blurring     520 non-null    object\n",
            " 9   Itching             520 non-null    object\n",
            " 10  Irritability        520 non-null    object\n",
            " 11  delayed healing     520 non-null    object\n",
            " 12  partial paresis     520 non-null    object\n",
            " 13  muscle stiffness    520 non-null    object\n",
            " 14  Alopecia            520 non-null    object\n",
            " 15  Obesity             520 non-null    object\n",
            " 16  class               520 non-null    object\n",
            "dtypes: int64(1), object(16)\n",
            "memory usage: 69.2+ KB\n",
            "None\n"
          ]
        }
      ]
    }
  ]
}
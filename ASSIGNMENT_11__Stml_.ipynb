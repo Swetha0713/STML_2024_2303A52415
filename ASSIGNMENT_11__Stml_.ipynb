{
  "nbformat": 4,
  "nbformat_minor": 0,
  "metadata": {
    "colab": {
      "provenance": [],
      "include_colab_link": true
    },
    "kernelspec": {
      "name": "python3",
      "display_name": "Python 3"
    },
    "language_info": {
      "name": "python"
    }
  },
  "cells": [
    {
      "cell_type": "markdown",
      "metadata": {
        "id": "view-in-github",
        "colab_type": "text"
      },
      "source": [
        "<a href=\"https://colab.research.google.com/github/Swetha0713/STML_2024_2303A52415/blob/main/ASSIGNMENT_11__Stml_.ipynb\" target=\"_parent\"><img src=\"https://colab.research.google.com/assets/colab-badge.svg\" alt=\"Open In Colab\"/></a>"
      ]
    },
    {
      "cell_type": "code",
      "execution_count": null,
      "metadata": {
        "colab": {
          "base_uri": "https://localhost:8080/"
        },
        "id": "WUNeBSW7lezE",
        "outputId": "2df5432d-b0ef-4de0-acbf-7ec16e19568e"
      },
      "outputs": [
        {
          "output_type": "stream",
          "name": "stdout",
          "text": [
            "Accuracy without PCA:\n",
            "SVM Accuracy: 0.7692307692307693\n",
            "KNN Accuracy: 0.7384615384615385\n",
            "Logistic Regression Accuracy: 0.7692307692307693\n",
            "\n",
            "Accuracy with PCA:\n",
            "SVM PCA Accuracy: 0.7692307692307693\n",
            "KNN PCA Accuracy: 0.7384615384615385\n",
            "Logistic Regression PCA Accuracy: 0.7692307692307693\n"
          ]
        }
      ],
      "source": [
        "import pandas as pd\n",
        "from sklearn.model_selection import train_test_split\n",
        "from sklearn.preprocessing import LabelEncoder, StandardScaler\n",
        "from sklearn.impute import SimpleImputer\n",
        "from sklearn.decomposition import PCA\n",
        "from sklearn.svm import SVC\n",
        "from sklearn.neighbors import KNeighborsClassifier\n",
        "from sklearn.linear_model import LogisticRegression\n",
        "from sklearn.metrics import accuracy_score\n",
        "\n",
        "data = pd.read_csv('/content/breast_cancer_survival.csv')\n",
        "\n",
        "data = data.dropna(subset=['Patient_Status'])\n",
        "\n",
        "label_encoders = {}\n",
        "for column in data.select_dtypes(include=['object']).columns:\n",
        "    if column != 'Patient_Status':\n",
        "        le = LabelEncoder()\n",
        "        data[column] = le.fit_transform(data[column])\n",
        "        label_encoders[column] = le\n",
        "target_le = LabelEncoder()\n",
        "data['Patient_Status'] = target_le.fit_transform(data['Patient_Status'])\n",
        "X = data.drop(columns=['Patient_Status', 'Date_of_Surgery', 'Date_of_Last_Visit'])\n",
        "y =data['Patient_Status']\n",
        "imputer = SimpleImputer(strategy='median')\n",
        "X_imputed = imputer.fit_transform(X)\n",
        "X_train, X_test, y_train, y_test = train_test_split(X_imputed, y, test_size=0.2, random_state=42)\n",
        "scaler = StandardScaler()\n",
        "X_train_scaled = scaler.fit_transform(X_train)\n",
        "X_test_scaled = scaler.transform(X_test)\n",
        "\n",
        "svm_model = SVC()\n",
        "knn_model = KNeighborsClassifier()\n",
        "log_reg_model = LogisticRegression(max_iter=1000)\n",
        "svm_model.fit(X_train_scaled, y_train)\n",
        "svm_accuracy = accuracy_score(y_test, svm_model.predict(X_test_scaled))\n",
        "\n",
        "knn_model.fit(X_train_scaled, y_train)\n",
        "knn_accuracy = accuracy_score(y_test, knn_model.predict(X_test_scaled))\n",
        "\n",
        "log_reg_model.fit(X_train_scaled, y_train)\n",
        "log_reg_accuracy = accuracy_score(y_test, log_reg_model.predict(X_test_scaled))\n",
        "\n",
        "print(\"Accuracy without PCA:\")\n",
        "print(f\"SVM Accuracy: {svm_accuracy}\")\n",
        "print(f\"KNN Accuracy: {knn_accuracy}\")\n",
        "print(f\"Logistic Regression Accuracy: {log_reg_accuracy}\")\n",
        "pca = PCA(n_components=5)\n",
        "X_train_pca = pca.fit_transform(X_train_scaled)\n",
        "X_test_pca = pca.transform(X_test_scaled)\n",
        "svm_model.fit(X_train_pca, y_train)\n",
        "svm_pca_accuracy = accuracy_score(y_test, svm_model.predict(X_test_pca))\n",
        "\n",
        "knn_model.fit(X_train_pca, y_train)\n",
        "knn_pca_accuracy = accuracy_score(y_test, knn_model.predict(X_test_pca))\n",
        "\n",
        "log_reg_model.fit(X_train_pca, y_train)\n",
        "log_reg_pca_accuracy = accuracy_score(y_test, log_reg_model.predict(X_test_pca))\n",
        "\n",
        "print(\"\\nAccuracy with PCA:\")\n",
        "print(f\"SVM PCA Accuracy: {svm_pca_accuracy}\")\n",
        "print(f\"KNN PCA Accuracy: {knn_pca_accuracy}\")\n",
        "print(f\"Logistic Regression PCA Accuracy: {log_reg_pca_accuracy}\")\n"
      ]
    },
    {
      "cell_type": "code",
      "source": [
        "from google.colab import drive\n",
        "drive.mount('/content/drive')"
      ],
      "metadata": {
        "colab": {
          "base_uri": "https://localhost:8080/"
        },
        "id": "TzpSWafUmDKJ",
        "outputId": "7f435781-c4bd-490b-e548-e264162322e8"
      },
      "execution_count": null,
      "outputs": [
        {
          "output_type": "stream",
          "name": "stdout",
          "text": [
            "Mounted at /content/drive\n"
          ]
        }
      ]
    }
  ]
}
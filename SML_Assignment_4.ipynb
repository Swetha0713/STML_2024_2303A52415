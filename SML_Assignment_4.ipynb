{
  "cells": [
    {
      "cell_type": "markdown",
      "metadata": {
        "id": "view-in-github",
        "colab_type": "text"
      },
      "source": [
        "<a href=\"https://colab.research.google.com/github/Swetha0713/STML_2024_2303A52415/blob/main/SML_Assignment_4.ipynb\" target=\"_parent\"><img src=\"https://colab.research.google.com/assets/colab-badge.svg\" alt=\"Open In Colab\"/></a>"
      ]
    },
    {
      "cell_type": "code",
      "execution_count": null,
      "metadata": {
        "colab": {
          "base_uri": "https://localhost:8080/"
        },
        "id": "gJr_9dXGpJ05",
        "outputId": "7996c2a9-fb68-4f50-8480-256c1e5430d1"
      },
      "outputs": [
        {
          "output_type": "stream",
          "name": "stdout",
          "text": [
            "      battery_power  clock_speed  mobile_wt  talk_time  price_range\n",
            "0               842          2.2        188         19            1\n",
            "1              1021          0.5        136          7            2\n",
            "2               563          0.5        145          9            2\n",
            "3               615          2.5        131         11            2\n",
            "4              1821          1.2        141         15            1\n",
            "...             ...          ...        ...        ...          ...\n",
            "1995            794          0.5        106         19            0\n",
            "1996           1965          2.6        187         16            2\n",
            "1997           1911          0.9        108          5            3\n",
            "1998           1512          0.9        145         19            0\n",
            "1999            510          2.0        168          2            3\n",
            "\n",
            "[2000 rows x 5 columns]\n",
            "1998.0\n",
            "0.0\n",
            "      battery_power  clock_speed  mobile_wt  talk_time  price_range\n",
            "0          0.421421     0.001101   0.094094   0.009510     0.000501\n",
            "1          0.511011     0.000250   0.068068   0.003504     0.001001\n",
            "2          0.281782     0.000250   0.072573   0.004505     0.001001\n",
            "3          0.307808     0.001251   0.065566   0.005506     0.001001\n",
            "4          0.911411     0.000601   0.070571   0.007508     0.000501\n",
            "...             ...          ...        ...        ...          ...\n",
            "1995       0.397397     0.000250   0.053053   0.009510     0.000000\n",
            "1996       0.983483     0.001301   0.093594   0.008008     0.001001\n",
            "1997       0.956456     0.000450   0.054054   0.002503     0.001502\n",
            "1998       0.756757     0.000450   0.072573   0.009510     0.000000\n",
            "1999       0.255255     0.001001   0.084084   0.001001     0.001502\n",
            "\n",
            "[2000 rows x 5 columns]\n",
            "      battery_power  clock_speed  mobile_wt  talk_time\n",
            "0          0.421421     0.001101   0.094094   0.009510\n",
            "1          0.511011     0.000250   0.068068   0.003504\n",
            "2          0.281782     0.000250   0.072573   0.004505\n",
            "3          0.307808     0.001251   0.065566   0.005506\n",
            "4          0.911411     0.000601   0.070571   0.007508\n",
            "...             ...          ...        ...        ...\n",
            "1995       0.397397     0.000250   0.053053   0.009510\n",
            "1996       0.983483     0.001301   0.093594   0.008008\n",
            "1997       0.956456     0.000450   0.054054   0.002503\n",
            "1998       0.756757     0.000450   0.072573   0.009510\n",
            "1999       0.255255     0.001001   0.084084   0.001001\n",
            "\n",
            "[2000 rows x 4 columns]\n",
            "0       0.000501\n",
            "1       0.001001\n",
            "2       0.001001\n",
            "3       0.001001\n",
            "4       0.000501\n",
            "          ...   \n",
            "1995    0.000000\n",
            "1996    0.001001\n",
            "1997    0.001502\n",
            "1998    0.000000\n",
            "1999    0.001502\n",
            "Name: price_range, Length: 2000, dtype: float64\n",
            "      battery_power  clock_speed  mobile_wt  talk_time\n",
            "582        0.616617     0.001451   0.084585   0.008008\n",
            "159        0.920921     0.000250   0.071071   0.005005\n",
            "1827       0.846847     0.001051   0.053053   0.003504\n",
            "318        0.254254     0.000400   0.047047   0.003504\n",
            "708        0.488989     0.001401   0.082583   0.005005\n",
            "...             ...          ...        ...        ...\n",
            "835        0.612613     0.000801   0.078579   0.006507\n",
            "1216       0.579580     0.000350   0.061562   0.007508\n",
            "1653       0.595596     0.001001   0.046547   0.004505\n",
            "559        0.596096     0.001201   0.084585   0.004004\n",
            "684        0.353353     0.000250   0.054054   0.002002\n",
            "\n",
            "[1600 rows x 4 columns]\n",
            "582     0.000000\n",
            "159     0.000501\n",
            "1827    0.001502\n",
            "318     0.000000\n",
            "708     0.001502\n",
            "          ...   \n",
            "835     0.001502\n",
            "1216    0.000501\n",
            "1653    0.001502\n",
            "559     0.000000\n",
            "684     0.000501\n",
            "Name: price_range, Length: 1600, dtype: float64\n",
            "      battery_power  clock_speed  mobile_wt  talk_time\n",
            "405        0.727728     0.000250   0.041542   0.002503\n",
            "1190       0.546547     0.000250   0.083584   0.005506\n",
            "1132       0.762763     0.000901   0.087087   0.006507\n",
            "731        0.904404     0.001051   0.062563   0.006507\n",
            "1754       0.543544     0.000851   0.055556   0.008509\n",
            "...             ...          ...        ...        ...\n",
            "638        0.477978     0.000250   0.071572   0.004505\n",
            "360        0.404905     0.000400   0.045546   0.001502\n",
            "1810       0.297297     0.001301   0.098098   0.008509\n",
            "1743       0.837337     0.000801   0.091091   0.010010\n",
            "563        0.645646     0.000250   0.071572   0.007508\n",
            "\n",
            "[400 rows x 4 columns]\n",
            "405     0.001502\n",
            "1190    0.000000\n",
            "1132    0.001001\n",
            "731     0.001001\n",
            "1754    0.001001\n",
            "          ...   \n",
            "638     0.000501\n",
            "360     0.000501\n",
            "1810    0.000000\n",
            "1743    0.001001\n",
            "563     0.000501\n",
            "Name: price_range, Length: 400, dtype: float64\n"
          ]
        }
      ],
      "source": [
        "\"Question 1 (assignment 4)\"\n",
        "import pandas as pd\n",
        "import numpy as np\n",
        "import matplotlib.pyplot as plt\n",
        "import seaborn as sns\n",
        "from sklearn.model_selection import train_test_split\n",
        "from sklearn.linear_model import LogisticRegression\n",
        "from sklearn.metrics import accuracy_score\n",
        "data = pd.read_csv('/content/drive/MyDrive/train[1].csv')\n",
        "columns = ['battery_power', 'clock_speed', 'mobile_wt', 'talk_time', 'price_range']\n",
        "data = data.loc[:, columns]\n",
        "data.head()\n",
        "print(data)\n",
        "data.tail(-1)\n",
        "xa = np.max(data)\n",
        "print(xa)\n",
        "xb = np.min(data)\n",
        "print(xb)\n",
        "for i in data:\n",
        "    data[i] = (data[i] - xb) / (xa - xb)\n",
        "print(data)\n",
        "features=['battery_power','clock_speed','mobile_wt','talk_time']\n",
        "x=data.loc[:,features]\n",
        "y=data.loc[:,'price_range']\n",
        "print(x)\n",
        "print(y)\n",
        "x_train, x_test,y_train,y_test=train_test_split(x,y,test_size=0.2,random_state=0)\n",
        "print(x_train)\n",
        "print(y_train)\n",
        "print(x_test)\n",
        "print(y_test)\n",
        "\n",
        "\n"
      ]
    },
    {
      "cell_type": "markdown",
      "metadata": {
        "id": "2fhs6GZ4qFMx"
      },
      "source": [
        "To execute the code in the above cell, select it with a click and then either press the play button to the left of the code, or use the keyboard shortcut \"Command/Ctrl+Enter\". To edit the code, just click the cell and start editing.\n",
        "\n",
        "Variables that you define in one cell can later be used in other cells:"
      ]
    },
    {
      "cell_type": "code",
      "execution_count": null,
      "metadata": {
        "colab": {
          "base_uri": "https://localhost:8080/"
        },
        "id": "-gE-Ez1qtyIA",
        "outputId": "68afe9b4-658f-45e9-bbd0-fcabd448fc38"
      },
      "outputs": [
        {
          "output_type": "stream",
          "name": "stdout",
          "text": [
            "      battery_power  clock_speed  mobile_wt  talk_time  price_range\n",
            "0          0.421421     0.001101   0.094094   0.009510     0.000501\n",
            "1          0.511011     0.000250   0.068068   0.003504     0.001001\n",
            "2          0.281782     0.000250   0.072573   0.004505     0.001001\n",
            "3          0.307808     0.001251   0.065566   0.005506     0.001001\n",
            "4          0.911411     0.000601   0.070571   0.007508     0.000501\n",
            "...             ...          ...        ...        ...          ...\n",
            "1995       0.397397     0.000250   0.053053   0.009510     0.000000\n",
            "1996       0.983483     0.001301   0.093594   0.008008     0.001001\n",
            "1997       0.956456     0.000450   0.054054   0.002503     0.001502\n",
            "1998       0.756757     0.000450   0.072573   0.009510     0.000000\n",
            "1999       0.255255     0.001001   0.084084   0.001001     0.001502\n",
            "\n",
            "[2000 rows x 5 columns]\n",
            "1.0\n",
            "0.0\n",
            "      battery_power  clock_speed  mobile_wt  talk_time  price_range\n",
            "0          0.421421     0.001101   0.094094   0.009510     0.000501\n",
            "1          0.511011     0.000250   0.068068   0.003504     0.001001\n",
            "2          0.281782     0.000250   0.072573   0.004505     0.001001\n",
            "3          0.307808     0.001251   0.065566   0.005506     0.001001\n",
            "4          0.911411     0.000601   0.070571   0.007508     0.000501\n",
            "...             ...          ...        ...        ...          ...\n",
            "1995       0.397397     0.000250   0.053053   0.009510     0.000000\n",
            "1996       0.983483     0.001301   0.093594   0.008008     0.001001\n",
            "1997       0.956456     0.000450   0.054054   0.002503     0.001502\n",
            "1998       0.756757     0.000450   0.072573   0.009510     0.000000\n",
            "1999       0.255255     0.001001   0.084084   0.001001     0.001502\n",
            "\n",
            "[2000 rows x 5 columns]\n"
          ]
        }
      ],
      "source": [
        "print(data)\n",
        "data.tail(-1)\n",
        "\n",
        "xa = np.max(data)\n",
        "print(xa)\n",
        "\n",
        "xb = np.min(data)\n",
        "print(xb)\n",
        "\n",
        "for i in data:\n",
        "    data[i] = (data[i] - xb) / (xa - xb)\n",
        "\n",
        "print(data)\n"
      ]
    },
    {
      "cell_type": "code",
      "execution_count": null,
      "metadata": {
        "colab": {
          "base_uri": "https://localhost:8080/"
        },
        "id": "oS0LZqXDoR_i",
        "outputId": "6abfcc0a-0959-44d6-ef3e-828f4251cbed"
      },
      "outputs": [
        {
          "output_type": "stream",
          "name": "stdout",
          "text": [
            "1600\n",
            "4\n",
            "10000\n",
            "The shape of the data is  (2000, 5)\n",
            "The X shape of the data is  (2000, 4)\n",
            "The type of the data is  <class 'pandas.core.frame.DataFrame'>\n",
            "Count of missing values in the 'Team' column: 0\n",
            "0       False\n",
            "1       False\n",
            "2       False\n",
            "3       False\n",
            "4       False\n",
            "        ...  \n",
            "1995    False\n",
            "1996    False\n",
            "1997    False\n",
            "1998    False\n",
            "1999    False\n",
            "Name: battery_power, Length: 2000, dtype: bool\n"
          ]
        }
      ],
      "source": [
        "\"Question 2 (assignment 4)\"\n",
        "size_x=x_train.shape[0]\n",
        "size_y=x_train.shape[1]\n",
        "print(size_x)\n",
        "print(size_y)\n",
        "print(data.size)\n",
        "print('The shape of the data is ',data.shape)\n",
        "print('The X shape of the data is ',x.shape)\n",
        "print('The type of the data is ', type(x))\n",
        "bool_series = pd.isnull(data[\"battery_power\"])\n",
        "missing_values_count = bool_series.sum()\n",
        "print(\"Count of missing values in the 'Team' column:\", missing_values_count)\n",
        "print(bool_series)"
      ]
    },
    {
      "cell_type": "markdown",
      "metadata": {
        "id": "lSrWNr3MuFUS"
      },
      "source": [
        "Colab notebooks allow you to combine **executable code** and **rich text** in a single document, along with **images**, **HTML**, **LaTeX** and more. When you create your own Colab notebooks, they are stored in your Google Drive account. You can easily share your Colab notebooks with co-workers or friends, allowing them to comment on your notebooks or even edit them. To learn more, see [Overview of Colab](/notebooks/basic_features_overview.ipynb). To create a new Colab notebook you can use the File menu above, or use the following link: [create a new Colab notebook](http://colab.research.google.com#create=true).\n",
        "\n",
        "Colab notebooks are Jupyter notebooks that are hosted by Colab. To learn more about the Jupyter project, see [jupyter.org](https://www.jupyter.org)."
      ]
    },
    {
      "cell_type": "markdown",
      "metadata": {
        "id": "UdRyKR44dcNI"
      },
      "source": [
        "<div class=\"markdown-google-sans\">\n",
        "\n",
        "## Data science\n",
        "</div>\n",
        "\n",
        "With Colab you can harness the full power of popular Python libraries to analyze and visualize data. The code cell below uses **numpy** to generate some random data, and uses **matplotlib** to visualize it. To edit the code, just click the cell and start editing."
      ]
    },
    {
      "cell_type": "markdown",
      "metadata": {
        "id": "4_kCnsPUqS6o"
      },
      "source": [
        "You can import your own data into Colab notebooks from your Google Drive account, including from spreadsheets, as well as from Github and many other sources. To learn more about importing data, and how Colab can be used for data science, see the links below under [Working with Data](#working-with-data)."
      ]
    },
    {
      "cell_type": "code",
      "execution_count": null,
      "metadata": {
        "colab": {
          "height": 333,
          "base_uri": "https://localhost:8080/"
        },
        "id": "C4HZx7Gndbrh",
        "outputId": "860e266f-19bf-4744-cc3e-687d3b143ebe"
      },
      "outputs": [
        {
          "output_type": "display_data",
          "data": {
            "text/plain": [
              "<IPython.core.display.Markdown object>"
            ],
            "text/markdown": "![Sample Visualization](data:image/png;base64,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)"
          },
          "metadata": {}
        }
      ],
      "source": [
        "import numpy as np\n",
        "import IPython.display as display\n",
        "from matplotlib import pyplot as plt\n",
        "import io\n",
        "import base64\n",
        "\n",
        "ys = 200 + np.random.randn(100)\n",
        "x = [x for x in range(len(ys))]\n",
        "\n",
        "fig = plt.figure(figsize=(4, 3), facecolor='w')\n",
        "plt.plot(x, ys, '-')\n",
        "plt.fill_between(x, ys, 195, where=(ys > 195), facecolor='g', alpha=0.6)\n",
        "plt.title(\"Sample Visualization\", fontsize=10)\n",
        "\n",
        "data = io.BytesIO()\n",
        "plt.savefig(data)\n",
        "image = F\"data:image/png;base64,{base64.b64encode(data.getvalue()).decode()}\"\n",
        "alt = \"Sample Visualization\"\n",
        "display.display(display.Markdown(F\"\"\"![{alt}]({image})\"\"\"))\n",
        "plt.close(fig)"
      ]
    },
    {
      "cell_type": "markdown",
      "metadata": {
        "id": "VYV91hbKwP2J"
      },
      "source": [
        "Colab notebooks execute code on Google's cloud servers, meaning you can leverage the power of Google hardware, including [GPUs and TPUs](#using-accelerated-hardware), regardless of the power of your machine. All you need is a browser.\n",
        "\n",
        "For example, if you find yourself waiting for **pandas** code to finish running and want to go faster, you can switch to a GPU Runtime and use libraries like [RAPIDS cuDF](https://rapids.ai/cudf-pandas) that provide zero-code-change acceleration."
      ]
    },
    {
      "cell_type": "markdown",
      "metadata": {
        "id": "vwnNlNIEwoZ8"
      },
      "source": [
        "To learn more about accelerating pandas on Colab, see the [10 minute guide](https://colab.research.google.com/github/rapidsai-community/showcase/blob/main/getting_started_tutorials/cudf_pandas_colab_demo.ipynb) or\n",
        " [US stock market data analysis demo](https://colab.research.google.com/github/rapidsai-community/showcase/blob/main/getting_started_tutorials/cudf_pandas_stocks_demo.ipynb)."
      ]
    },
    {
      "cell_type": "markdown",
      "metadata": {
        "id": "OwuxHmxllTwN"
      },
      "source": [
        "<div class=\"markdown-google-sans\">\n",
        "\n",
        "## Machine learning\n",
        "</div>\n",
        "\n",
        "With Colab you can import an image dataset, train an image classifier on it, and evaluate the model, all in just [a few lines of code](https://colab.research.google.com/github/tensorflow/docs/blob/master/site/en/tutorials/quickstart/beginner.ipynb)."
      ]
    },
    {
      "cell_type": "markdown",
      "metadata": {
        "id": "ufxBm1yRnruN"
      },
      "source": [
        "Colab is used extensively in the machine learning community with applications including:\n",
        "- Getting started with TensorFlow\n",
        "- Developing and training neural networks\n",
        "- Experimenting with TPUs\n",
        "- Disseminating AI research\n",
        "- Creating tutorials\n",
        "\n",
        "To see sample Colab notebooks that demonstrate machine learning applications, see the [machine learning examples](#machine-learning-examples) below."
      ]
    },
    {
      "cell_type": "markdown",
      "metadata": {
        "id": "-Rh3-Vt9Nev9"
      },
      "source": [
        "<div class=\"markdown-google-sans\">\n",
        "\n",
        "## More Resources\n",
        "\n",
        "### Working with Notebooks in Colab\n",
        "\n",
        "</div>\n",
        "\n",
        "- [Overview of Colab](/notebooks/basic_features_overview.ipynb)\n",
        "- [Guide to Markdown](/notebooks/markdown_guide.ipynb)\n",
        "- [Importing libraries and installing dependencies](/notebooks/snippets/importing_libraries.ipynb)\n",
        "- [Saving and loading notebooks in GitHub](https://colab.research.google.com/github/googlecolab/colabtools/blob/main/notebooks/colab-github-demo.ipynb)\n",
        "- [Interactive forms](/notebooks/forms.ipynb)\n",
        "- [Interactive widgets](/notebooks/widgets.ipynb)\n",
        "\n",
        "<div class=\"markdown-google-sans\">\n",
        "\n",
        "<a name=\"working-with-data\"></a>\n",
        "### Working with Data\n",
        "</div>\n",
        "\n",
        "- [Loading data: Drive, Sheets, and Google Cloud Storage](/notebooks/io.ipynb)\n",
        "- [Charts: visualizing data](/notebooks/charts.ipynb)\n",
        "- [Getting started with BigQuery](/notebooks/bigquery.ipynb)\n",
        "\n",
        "<div class=\"markdown-google-sans\">\n",
        "\n",
        "### Machine Learning Crash Course\n",
        "\n",
        "<div>\n",
        "\n",
        "These are a few of the notebooks from Google's online Machine Learning course. See the [full course website](https://developers.google.com/machine-learning/crash-course/) for more.\n",
        "- [Intro to Pandas DataFrame](https://colab.research.google.com/github/google/eng-edu/blob/main/ml/cc/exercises/pandas_dataframe_ultraquick_tutorial.ipynb)\n",
        "- [Intro to RAPIDS cuDF to accelerate pandas](https://nvda.ws/rapids-cudf)\n",
        "- [Linear regression with tf.keras using synthetic data](https://colab.research.google.com/github/google/eng-edu/blob/main/ml/cc/exercises/linear_regression_with_synthetic_data.ipynb)\n",
        "\n",
        "<div class=\"markdown-google-sans\">\n",
        "\n",
        "<a name=\"using-accelerated-hardware\"></a>\n",
        "### Using Accelerated Hardware\n",
        "</div>\n",
        "\n",
        "- [TensorFlow with GPUs](/notebooks/gpu.ipynb)\n",
        "- [TensorFlow with TPUs](/notebooks/tpu.ipynb)"
      ]
    },
    {
      "cell_type": "markdown",
      "metadata": {
        "id": "P-H6Lw1vyNNd"
      },
      "source": [
        "<div class=\"markdown-google-sans\">\n",
        "\n",
        "<a name=\"machine-learning-examples\"></a>\n",
        "\n",
        "### Featured examples\n",
        "\n",
        "</div>\n",
        "\n",
        "- [Retraining an Image Classifier](https://tensorflow.org/hub/tutorials/tf2_image_retraining): Build a Keras model on top of a pre-trained image classifier to distinguish flowers.\n",
        "- [Text Classification](https://tensorflow.org/hub/tutorials/tf2_text_classification): Classify IMDB movie reviews as either *positive* or *negative*.\n",
        "- [Style Transfer](https://tensorflow.org/hub/tutorials/tf2_arbitrary_image_stylization): Use deep learning to transfer style between images.\n",
        "- [Multilingual Universal Sentence Encoder Q&A](https://tensorflow.org/hub/tutorials/retrieval_with_tf_hub_universal_encoder_qa): Use a machine learning model to answer questions from the SQuAD dataset.\n",
        "- [Video Interpolation](https://tensorflow.org/hub/tutorials/tweening_conv3d): Predict what happened in a video between the first and the last frame.\n"
      ]
    }
  ],
  "metadata": {
    "colab": {
      "provenance": [],
      "include_colab_link": true
    },
    "kernelspec": {
      "display_name": "Python 3",
      "name": "python3"
    }
  },
  "nbformat": 4,
  "nbformat_minor": 0
}